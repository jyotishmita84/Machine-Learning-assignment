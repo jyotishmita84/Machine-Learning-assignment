{
  "nbformat": 4,
  "nbformat_minor": 0,
  "metadata": {
    "colab": {
      "provenance": []
    },
    "kernelspec": {
      "name": "python3",
      "display_name": "Python 3"
    },
    "language_info": {
      "name": "python"
    }
  },
  "cells": [
    {
      "cell_type": "code",
      "execution_count": 1,
      "metadata": {
        "colab": {
          "base_uri": "https://localhost:8080/"
        },
        "id": "0HcyaXvb4hvF",
        "outputId": "15383198-d6a4-4b0a-ee50-a769f84f3c08"
      },
      "outputs": [
        {
          "output_type": "stream",
          "name": "stdout",
          "text": [
            "Downloading data from https://storage.googleapis.com/tensorflow/tf-keras-datasets/mnist.npz\n",
            "\u001b[1m11490434/11490434\u001b[0m \u001b[32m━━━━━━━━━━━━━━━━━━━━\u001b[0m\u001b[37m\u001b[0m \u001b[1m0s\u001b[0m 0us/step\n"
          ]
        },
        {
          "output_type": "stream",
          "name": "stderr",
          "text": [
            "/usr/local/lib/python3.11/dist-packages/keras/src/layers/reshaping/flatten.py:37: UserWarning: Do not pass an `input_shape`/`input_dim` argument to a layer. When using Sequential models, prefer using an `Input(shape)` object as the first layer in the model instead.\n",
            "  super().__init__(**kwargs)\n"
          ]
        },
        {
          "output_type": "stream",
          "name": "stdout",
          "text": [
            "Epoch 1/5\n",
            "\u001b[1m1875/1875\u001b[0m \u001b[32m━━━━━━━━━━━━━━━━━━━━\u001b[0m\u001b[37m\u001b[0m \u001b[1m6s\u001b[0m 3ms/step - accuracy: 0.8582 - loss: 0.4884\n",
            "Epoch 2/5\n",
            "\u001b[1m1875/1875\u001b[0m \u001b[32m━━━━━━━━━━━━━━━━━━━━\u001b[0m\u001b[37m\u001b[0m \u001b[1m6s\u001b[0m 3ms/step - accuracy: 0.9570 - loss: 0.1479\n",
            "Epoch 3/5\n",
            "\u001b[1m1875/1875\u001b[0m \u001b[32m━━━━━━━━━━━━━━━━━━━━\u001b[0m\u001b[37m\u001b[0m \u001b[1m10s\u001b[0m 3ms/step - accuracy: 0.9666 - loss: 0.1104\n",
            "Epoch 4/5\n",
            "\u001b[1m1875/1875\u001b[0m \u001b[32m━━━━━━━━━━━━━━━━━━━━\u001b[0m\u001b[37m\u001b[0m \u001b[1m5s\u001b[0m 3ms/step - accuracy: 0.9726 - loss: 0.0860\n",
            "Epoch 5/5\n",
            "\u001b[1m1875/1875\u001b[0m \u001b[32m━━━━━━━━━━━━━━━━━━━━\u001b[0m\u001b[37m\u001b[0m \u001b[1m5s\u001b[0m 3ms/step - accuracy: 0.9758 - loss: 0.0749\n",
            "\u001b[1m313/313\u001b[0m \u001b[32m━━━━━━━━━━━━━━━━━━━━\u001b[0m\u001b[37m\u001b[0m \u001b[1m1s\u001b[0m 3ms/step - accuracy: 0.9723 - loss: 0.0901\n",
            "\n",
            "Test Accuracy: 0.9763000011444092\n",
            "\u001b[1m1/1\u001b[0m \u001b[32m━━━━━━━━━━━━━━━━━━━━\u001b[0m\u001b[37m\u001b[0m \u001b[1m0s\u001b[0m 78ms/step\n",
            "Image 0 -> Predicted Digit: 7 (Confidence: 1.00)\n",
            "Image 1 -> Predicted Digit: 2 (Confidence: 1.00)\n",
            "Image 2 -> Predicted Digit: 1 (Confidence: 1.00)\n",
            "Image 3 -> Predicted Digit: 0 (Confidence: 1.00)\n",
            "Image 4 -> Predicted Digit: 4 (Confidence: 1.00)\n"
          ]
        }
      ],
      "source": [
        "# -------------------------------\n",
        "# Digit Recognition using TensorFlow/Keras\n",
        "# -------------------------------\n",
        "\n",
        "# Import the TensorFlow library (includes Keras for building neural networks)\n",
        "import tensorflow as tf\n",
        "\n",
        "# Load the MNIST dataset (handwritten digits: 0–9) directly from TensorFlow\n",
        "# This returns two sets: training data (images & labels) and testing data\n",
        "(x_train, y_train), (x_test, y_test) = tf.keras.datasets.mnist.load_data()\n",
        "\n",
        "# Normalize pixel values from 0–255 to 0–1 to make training easier\n",
        "# We divide each pixel by 255.0\n",
        "x_train = x_train / 255.0\n",
        "x_test = x_test / 255.0\n",
        "\n",
        "# Build a Sequential neural network model\n",
        "model = tf.keras.models.Sequential([\n",
        "    # Flatten layer: converts each 28x28 image into a 1D array of 784 values\n",
        "    tf.keras.layers.Flatten(input_shape=(28, 28)),\n",
        "\n",
        "    # First dense (fully connected) layer with 128 neurons and ReLU activation function\n",
        "    tf.keras.layers.Dense(128, activation='relu'),\n",
        "\n",
        "    # Dropout layer to reduce overfitting (randomly turns off 20% of neurons during training)\n",
        "    tf.keras.layers.Dropout(0.2),\n",
        "\n",
        "    # Output layer: 10 neurons (one for each digit 0–9) with softmax activation for probabilities\n",
        "    tf.keras.layers.Dense(10, activation='softmax')\n",
        "])\n",
        "\n",
        "# Compile the model: specify optimizer, loss function, and evaluation metric\n",
        "model.compile(optimizer='adam',\n",
        "              loss='sparse_categorical_crossentropy',\n",
        "              metrics=['accuracy'])\n",
        "\n",
        "# Train the model for 5 epochs (passes over the entire training set)\n",
        "model.fit(x_train, y_train, epochs=5)\n",
        "\n",
        "# Evaluate the model on the test set and print results\n",
        "test_loss, test_acc = model.evaluate(x_test, y_test)\n",
        "print(\"\\nTest Accuracy:\", test_acc)\n",
        "\n",
        "# Predict the first 5 images in the test set\n",
        "predictions = model.predict(x_test[:5])\n",
        "\n",
        "# Print predictions for first 5 test images\n",
        "for i, prediction in enumerate(predictions):\n",
        "    print(f\"Image {i} -> Predicted Digit: {prediction.argmax()} (Confidence: {prediction.max():.2f})\")\n"
      ]
    }
  ]
}